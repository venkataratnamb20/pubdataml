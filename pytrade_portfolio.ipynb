{
  "cells": [
    {
      "cell_type": "markdown",
      "metadata": {
        "id": "view-in-github",
        "colab_type": "text"
      },
      "source": [
        "<a href=\"https://colab.research.google.com/github/venkataratnamb20/pubdataml/blob/main/pytrade_portfolio.ipynb\" target=\"_parent\"><img src=\"https://colab.research.google.com/assets/colab-badge.svg\" alt=\"Open In Colab\"/></a>"
      ]
    },
    {
      "cell_type": "markdown",
      "source": [
        "# colab - excercises"
      ],
      "metadata": {
        "id": "AHYY3EnmQyyb"
      }
    },
    {
      "cell_type": "markdown",
      "metadata": {
        "id": "mfIMtw6BaiO1"
      },
      "source": [
        "## Pandas DataFrame: Create from lists of values"
      ]
    },
    {
      "cell_type": "code",
      "execution_count": null,
      "metadata": {
        "id": "qQ5S72eoaiuA"
      },
      "outputs": [],
      "source": [
        "import pandas as pd\n",
        "\n",
        "last_names = ['Connor', 'Connor', 'Reese']\n",
        "first_names = ['Sarah', 'John', 'Kyle']\n",
        "df = pd.DataFrame({\n",
        "  'first_name': first_names,\n",
        "  'last_name': last_names,\n",
        "})\n",
        "df"
      ]
    },
    {
      "cell_type": "markdown",
      "metadata": {
        "id": "da6CMhXZas7m"
      },
      "source": [
        "## Pandas DataFrame: Rename multiple Columns"
      ]
    },
    {
      "cell_type": "code",
      "execution_count": null,
      "metadata": {
        "id": "PidN8TlvatXt"
      },
      "outputs": [],
      "source": [
        "import pandas as pd\n",
        "df = pd.DataFrame({\n",
        "    'Year': [2016, 2015, 2014, 2013, 2012],\n",
        "    'Top Animal': ['Giant panda', 'Chicken', 'Pig', 'Turkey', 'Dog']\n",
        "})\n",
        "\n",
        "df.rename(columns={\n",
        "    'Year': 'Calendar Year',\n",
        "    'Top Animal': 'Favorite Animal',\n",
        "}, inplace=True)\n",
        "df"
      ]
    },
    {
      "cell_type": "markdown",
      "metadata": {
        "id": "-3GmnRDV--F_"
      },
      "source": [
        "## Pandas DataFrame: Query by regexp (regular expression)"
      ]
    },
    {
      "cell_type": "code",
      "execution_count": null,
      "metadata": {
        "id": "y2_DTKp-9v2A"
      },
      "outputs": [],
      "source": [
        "import pandas as pd\n",
        "df = pd.DataFrame({\n",
        "  'first_name': ['Sarah', 'John', 'Kyle', 'Joe'],\n",
        "  'last_name': ['Connor', 'Connor', 'Reese', 'Bonnot'],\n",
        "})\n",
        "\n",
        "df[df.last_name.str.match('.*onno.*')]"
      ]
    },
    {
      "cell_type": "markdown",
      "metadata": {
        "id": "VR_tSBKZPCHe"
      },
      "source": [
        "## Pandas DataFrame: Query by variable value"
      ]
    },
    {
      "cell_type": "markdown",
      "metadata": {
        "id": "emvt3RwC4U2L"
      },
      "source": [
        "Evaluate a variable as the value to find."
      ]
    },
    {
      "cell_type": "code",
      "execution_count": null,
      "metadata": {
        "id": "5chfuU3RPItU"
      },
      "outputs": [],
      "source": [
        "import pandas as pd\n",
        "df = pd.DataFrame({\n",
        "  'first_name': ['Sarah', 'John', 'Kyle'],\n",
        "  'last_name': ['Connor', 'Connor', 'Reese'],\n",
        "})\n",
        "\n",
        "foo = 'Connor'\n",
        "df.query('last_name == @foo')"
      ]
    },
    {
      "cell_type": "markdown",
      "metadata": {
        "id": "bHFe_2xK3WI7"
      },
      "source": [
        "## Pandas DataFrame: Query using variable value as a column name"
      ]
    },
    {
      "cell_type": "markdown",
      "metadata": {
        "id": "q8PqFCcW4y6z"
      },
      "source": [
        "Evaluate a variable, to use its value as the name of a column in a query.\n",
        "\n",
        "E.g. Query for rows where `John` is the value in the column named `first_name`."
      ]
    },
    {
      "cell_type": "code",
      "execution_count": null,
      "metadata": {
        "id": "PbXpFR93PRtc"
      },
      "outputs": [],
      "source": [
        "import pandas as pd\n",
        "df = pd.DataFrame(data={\n",
        "  'first_name': ['Sarah', 'John', 'Kyle'],\n",
        "  'last_name': ['Connor', 'Connor', 'Reese'],\n",
        "})\n",
        "\n",
        "column_name = 'first_name'\n",
        "df.query(f\"`{column_name}` == 'John'\")"
      ]
    },
    {
      "cell_type": "markdown",
      "metadata": {
        "id": "BIgQb_ICbNu9"
      },
      "source": [
        "## Pandas DataFrame: Query by Timestamp above a value"
      ]
    },
    {
      "cell_type": "code",
      "execution_count": null,
      "metadata": {
        "id": "0PAn5prJbOXk"
      },
      "outputs": [],
      "source": [
        "import pandas as pd\n",
        "df = pd.DataFrame({\n",
        "  'time': ['2022-09-14 00:52:00-07:00', '2022-09-14 00:52:30-07:00',\n",
        "           '2022-09-14 01:52:30-07:00'],\n",
        "  'letter': ['A', 'B', 'C'],\n",
        "})\n",
        "df['time'] = pd.to_datetime(df.time)\n",
        "\n",
        "df.query('time >= \"2022-09-14 00:52:30-07:00\"')"
      ]
    },
    {
      "cell_type": "markdown",
      "metadata": {
        "id": "MEFOgYwT0jiY"
      },
      "source": [
        "## Pandas DataFrame: Query for Timestamp between two values"
      ]
    },
    {
      "cell_type": "code",
      "execution_count": null,
      "metadata": {
        "id": "gznADrAnbXGY"
      },
      "outputs": [],
      "source": [
        "import pandas as pd\n",
        "df = pd.DataFrame({\n",
        "  'time': ['2022-09-14 00:52:00-07:00', '2022-09-14 00:52:30-07:00',\n",
        "           '2022-09-14 01:52:30-07:00'],\n",
        "  'letter': ['A', 'B', 'C'],\n",
        "})\n",
        "df['time'] = pd.to_datetime(df.time)\n",
        "\n",
        "begin_ts = '2022-09-14 00:52:00-07:00'\n",
        "end_ts = '2022-09-14 00:54:00-07:00'\n",
        "\n",
        "df.query('@begin_ts <= time < @end_ts')"
      ]
    },
    {
      "cell_type": "markdown",
      "metadata": {
        "id": "4zoeyh7ndKKN"
      },
      "source": [
        "## Pandas DataFrame: Filter by Timestamp in DatetimeIndex using `.loc[]`"
      ]
    },
    {
      "cell_type": "code",
      "execution_count": null,
      "metadata": {
        "id": "1B_YCZUrbaFG"
      },
      "outputs": [],
      "source": [
        "import pandas as pd\n",
        "df = pd.DataFrame({\n",
        "  'time': ['2022-09-14 00:52:00-07:00', '2022-09-14 00:52:30-07:00',\n",
        "           '2022-09-14 01:52:30-07:00'],\n",
        "  'letter': ['A', 'B', 'C'],\n",
        "})\n",
        "df['time'] = pd.to_datetime(df.time)\n",
        "df.set_index('time', inplace=True)\n",
        "\n",
        "df.loc['2022-09-14':'2022-09-14 00:53']"
      ]
    },
    {
      "cell_type": "markdown",
      "metadata": {
        "id": "fDscd8p3hOqz"
      },
      "source": [
        "## Pandas DataFrame: Filter by Timestamp using TimeDelta string"
      ]
    },
    {
      "cell_type": "code",
      "execution_count": null,
      "metadata": {
        "id": "YoRYanJrVV5g"
      },
      "outputs": [],
      "source": [
        "import pandas as pd\n",
        "df = pd.DataFrame({\n",
        "  'time': ['2022-09-14 00:52:00-07:00', '2022-09-14 00:52:30-07:00',\n",
        "           '2022-09-14 01:52:30-07:00'],\n",
        "  'letter': ['A', 'B', 'C'],\n",
        "})\n",
        "df['time'] = pd.to_datetime(df.time)\n",
        "\n",
        "def rows_in_time_range(df, time_column, start_ts_str, timedelta_str):\n",
        "  # Return rows from df, where start_ts < time_column <= start_ts + delta.\n",
        "  # start_ts_str can be a date '2022-09-01' or a time '2022-09-14 00:52:00-07:00'\n",
        "  # timedelta_str examples: '2 minutes'  '2 days 2 hours 15 minutes 30 seconds'\n",
        "  start_ts = pd.Timestamp(start_ts_str).tz_localize('US/Pacific')\n",
        "  end_ts = start_ts + pd.to_timedelta(timedelta_str)\n",
        "  return df.query(\"@start_ts <= {0} < @end_ts\".format(time_column))\n",
        "\n",
        "rows_in_time_range(df, 'time', '2022-09-14 00:00', '52 minutes 31 seconds')"
      ]
    },
    {
      "cell_type": "markdown",
      "metadata": {
        "id": "DyrfPExcbjFY"
      },
      "source": [
        "## Pandas: Describe Timestamp values in a column"
      ]
    },
    {
      "cell_type": "code",
      "execution_count": null,
      "metadata": {
        "id": "T1-ozcpHbitV"
      },
      "outputs": [],
      "source": [
        "import pandas as pd\n",
        "df = pd.DataFrame({\n",
        "  'time': ['2022-09-14 00:52:00-07:00', '2022-09-14 00:52:30-07:00',\n",
        "           '2022-09-14 01:52:30-07:00'],\n",
        "  'letter': ['A', 'B', 'C'],\n",
        "})\n",
        "df['time'] = pd.to_datetime(df.time)\n",
        "\n",
        "df['time'].describe(datetime_is_numeric=True)"
      ]
    },
    {
      "cell_type": "markdown",
      "metadata": {
        "id": "mrWXmdmOcA6F"
      },
      "source": [
        "## Pandas DataFrame: Explode a column containing dictionary values into multiple columns"
      ]
    },
    {
      "cell_type": "markdown",
      "metadata": {
        "id": "fcbWC_o5Bq6J"
      },
      "source": [
        "This code transforms or splits the dictionary column into many columns.\n",
        "\n",
        "E.g. The output DataFrame of this cell will have columns named [`date, letter, fruit, weather`]."
      ]
    },
    {
      "cell_type": "code",
      "execution_count": null,
      "metadata": {
        "id": "2225FVJacBYs"
      },
      "outputs": [],
      "source": [
        "import pandas as pd\n",
        "df = pd.DataFrame({\n",
        "  'date': ['2022-09-14', '2022-09-15', '2022-09-16'],\n",
        "  'letter': ['A', 'B', 'C'],\n",
        "  'dict' : [{ 'fruit': 'apple', 'weather': 'aces'},\n",
        "            { 'fruit': 'banana', 'weather': 'bad'},\n",
        "            { 'fruit': 'cantaloupe', 'weather': 'cloudy'}],\n",
        "})\n",
        "\n",
        "pd.concat([df.drop(['dict'], axis=1), df['dict'].apply(pd.Series)], axis=1)"
      ]
    },
    {
      "cell_type": "markdown",
      "metadata": {
        "id": "SIjbg2DUki9C"
      },
      "source": [
        "## Pandas DataFrame: Extract values using regexp (regular expression)"
      ]
    },
    {
      "cell_type": "code",
      "execution_count": null,
      "metadata": {
        "id": "Y7v3bFUmkidS"
      },
      "outputs": [],
      "source": [
        "import pandas as pd\n",
        "df = pd.DataFrame({\n",
        "  'request': ['GET /index.html?baz=3', 'GET /foo.html?bar=1'],\n",
        "})\n",
        "\n",
        "df['request'].str.extract('GET /([^?]+)\\?', expand=True)"
      ]
    },
    {
      "cell_type": "markdown",
      "metadata": {
        "id": "_8mikXMvjahc"
      },
      "source": [
        "## Pandas Timestamp: Convert string to Timestamp, using date only"
      ]
    },
    {
      "cell_type": "markdown",
      "metadata": {
        "id": "smKFFysmlQOx"
      },
      "source": [
        "I.e. Midnight on the given date."
      ]
    },
    {
      "cell_type": "code",
      "execution_count": null,
      "metadata": {
        "id": "ZPum-jBojGeF"
      },
      "outputs": [],
      "source": [
        "import pandas as pd\n",
        "\n",
        "pd.Timestamp('9/27/22').tz_localize('US/Pacific')"
      ]
    },
    {
      "cell_type": "markdown",
      "metadata": {
        "id": "QlE2B9gYlUto"
      },
      "source": [
        "## Pandas Timestamp: Convert string to Timestamp"
      ]
    },
    {
      "cell_type": "code",
      "execution_count": null,
      "metadata": {
        "id": "qZeu0qa3jpcu"
      },
      "outputs": [],
      "source": [
        "import pandas as pd\n",
        "\n",
        "pd.Timestamp('9/27/22 06:59').tz_localize('US/Pacific')"
      ]
    },
    {
      "cell_type": "markdown",
      "metadata": {
        "id": "M-p8mTaHlE3I"
      },
      "source": [
        "## Pandas: Create a TimeDelta using `unit`"
      ]
    },
    {
      "cell_type": "markdown",
      "metadata": {
        "id": "1iYqXT8qmEZn"
      },
      "source": [
        "From an integer.\n",
        "`unit` is a string, defaulting to `ns`. Possible values:\n"
      ]
    },
    {
      "cell_type": "code",
      "execution_count": null,
      "metadata": {
        "id": "zNo40II-lD2q"
      },
      "outputs": [],
      "source": [
        "import pandas as pd\n",
        "\n",
        "pd.to_timedelta(1, unit='h')"
      ]
    },
    {
      "cell_type": "markdown",
      "metadata": {
        "id": "FMQyJtg5mmCx"
      },
      "source": [
        "## Pandas: Create a TimeDelta using available kwargs"
      ]
    },
    {
      "cell_type": "markdown",
      "metadata": {
        "id": "Wh4w12fS4v0J"
      },
      "source": [
        "Example keyworded args: {days, seconds, microseconds, milliseconds, minutes, hours, weeks}"
      ]
    },
    {
      "cell_type": "code",
      "execution_count": null,
      "metadata": {
        "id": "giw4M16gmlkK"
      },
      "outputs": [],
      "source": [
        "import pandas as pd\n",
        "\n",
        "pd.Timedelta(days=2)"
      ]
    },
    {
      "cell_type": "markdown",
      "metadata": {
        "id": "xXR7N2sCmA-_"
      },
      "source": [
        "## Pandas: Create a TimeDelta from a string"
      ]
    },
    {
      "cell_type": "code",
      "execution_count": null,
      "metadata": {
        "id": "_SjGanWwl0XG"
      },
      "outputs": [],
      "source": [
        "import pandas as pd\n",
        "\n",
        "pd.Timedelta('2 days 2 hours 15 minutes 30 seconds')"
      ]
    },
    {
      "cell_type": "markdown",
      "metadata": {
        "id": "fnwXL2jnEO0V"
      },
      "source": [
        "## Pandas: Replace NaN values in a Column"
      ]
    },
    {
      "cell_type": "code",
      "execution_count": null,
      "metadata": {
        "id": "EeKjQOEJEOVh"
      },
      "outputs": [],
      "source": [
        "import numpy as np\n",
        "import pandas as pd\n",
        "df = pd.DataFrame({\n",
        "  'dogs': [5, 10, np.nan, 7],\n",
        "})\n",
        "\n",
        "df['dogs'].replace(np.nan, 0, regex=True)"
      ]
    },
    {
      "cell_type": "markdown",
      "metadata": {
        "id": "OCuIYAhHJimy"
      },
      "source": [
        "## Pandas DataFrame: Drop duplicate rows"
      ]
    },
    {
      "cell_type": "code",
      "execution_count": null,
      "metadata": {
        "id": "NjBDuqQSEgml"
      },
      "outputs": [],
      "source": [
        "import pandas as pd\n",
        "df = pd.DataFrame({\n",
        "  'first_name': ['Sarah', 'John', 'Kyle', 'Joe'],\n",
        "  'last_name': ['Connor', 'Connor', 'Reese', 'Bonnot'],\n",
        "})\n",
        "df.set_index('last_name', inplace=True)\n",
        "\n",
        "df.loc[~df.index.duplicated(), :]"
      ]
    },
    {
      "cell_type": "markdown",
      "metadata": {
        "id": "dy-BKNgWUwnQ"
      },
      "source": [
        "## Pandas DataFrame: Ignore one Column"
      ]
    },
    {
      "cell_type": "code",
      "execution_count": null,
      "metadata": {
        "id": "y00BW8DOUxGs"
      },
      "outputs": [],
      "source": [
        "import pandas as pd\n",
        "df = pd.DataFrame({\n",
        "  'first_name': ['Sarah', 'John', 'Kyle', 'Joe'],\n",
        "  'last_name': ['Connor', 'Connor', 'Reese', 'Bonnot'],\n",
        "})\n",
        "\n",
        "df.loc[:, df.columns!='last_name']"
      ]
    },
    {
      "cell_type": "markdown",
      "metadata": {
        "id": "5Vp6gD9OVo1Z"
      },
      "source": [
        "## Pandas DataFrame: Intersect Indexes"
      ]
    },
    {
      "cell_type": "code",
      "execution_count": null,
      "metadata": {
        "id": "Y3kdge_GVxO3"
      },
      "outputs": [],
      "source": [
        "import pandas as pd\n",
        "terminator_df = pd.DataFrame({\n",
        "  'first_name': ['Sarah', 'John', 'Kyle'],\n",
        "  'last_name': ['Connor', 'Connor', 'Reese'],\n",
        "})\n",
        "terminator_df.set_index('first_name', inplace=True)\n",
        "\n",
        "buckaroo_df = pd.DataFrame({\n",
        "  'first_name': ['John', 'John', 'Buckaroo'],\n",
        "  'last_name': ['Parker', 'Whorfin', 'Banzai'],\n",
        "})\n",
        "buckaroo_df.set_index('first_name', inplace=True)\n",
        "\n",
        "terminator_df.index.intersection(buckaroo_df.index).shape"
      ]
    },
    {
      "cell_type": "markdown",
      "metadata": {
        "id": "VVh1EtmVV0Qb"
      },
      "source": [
        "## Pandas DataFrame: Select all rows from A that are not in B, using the index"
      ]
    },
    {
      "cell_type": "code",
      "execution_count": null,
      "metadata": {
        "id": "OUazjSSUV_45"
      },
      "outputs": [],
      "source": [
        "import pandas as pd\n",
        "terminator_df = pd.DataFrame({\n",
        "  'first_name': ['Sarah', 'John', 'Kyle'],\n",
        "  'last_name': ['Connor', 'Connor', 'Reese'],\n",
        "})\n",
        "terminator_df.set_index('first_name', inplace=True)\n",
        "\n",
        "buckaroo_df = pd.DataFrame({\n",
        "  'first_name': ['John', 'John', 'Buckaroo'],\n",
        "  'last_name': ['Parker', 'Whorfin', 'Banzai'],\n",
        "})\n",
        "buckaroo_df.set_index('first_name', inplace=True)\n",
        "\n",
        "terminator_df[~terminator_df.index.isin(buckaroo_df.index)]"
      ]
    },
    {
      "cell_type": "markdown",
      "metadata": {
        "id": "MVTdtZJAWItJ"
      },
      "source": [
        "## Pandas DataFrame: Select rows by an attribute of a column value"
      ]
    },
    {
      "cell_type": "markdown",
      "metadata": {
        "id": "a2XfO20JWYy7"
      },
      "source": [
        "Use the Series `map()` method.\n",
        "E.g. To filter by the length of a column values:"
      ]
    },
    {
      "cell_type": "code",
      "execution_count": null,
      "metadata": {
        "id": "rmuXV7bzVnU-"
      },
      "outputs": [],
      "source": [
        "import pandas as pd\n",
        "df = pd.DataFrame({\n",
        "  'first_name': ['Sarah', 'John', 'Kyle'],\n",
        "  'last_name': ['Connor', 'Connor', 'Reese'],\n",
        "})\n",
        "\n",
        "df[df['last_name'].map(len) == 5]"
      ]
    },
    {
      "cell_type": "markdown",
      "metadata": {
        "id": "AMQ60B9Gghjh"
      },
      "source": [
        "## Pandas DataFrame: Sort the count of rows grouped on columns"
      ]
    },
    {
      "cell_type": "code",
      "execution_count": null,
      "metadata": {
        "id": "j4nwrfh-gVxX"
      },
      "outputs": [],
      "source": [
        "import pandas as pd\n",
        "df = pd.DataFrame({\n",
        "  'first_name': ['Sarah', 'John', 'Kyle'],\n",
        "  'last_name': ['Connor', 'Connor', 'Reese'],\n",
        "})\n",
        "\n",
        "df.groupby(['last_name']).size().sort_values(ascending=False)"
      ]
    },
    {
      "cell_type": "markdown",
      "metadata": {
        "id": "IRl1d3PY0ulI"
      },
      "source": [
        "## Pandas DataFrame: Reshape to have 1 row per value in a list column"
      ]
    },
    {
      "cell_type": "markdown",
      "metadata": {
        "id": "I2Pberyl1KTk"
      },
      "source": [
        "Creates a new DataFrame that is a transformed version of the input. E.g.\n",
        "*   Input: df with a column named `msg_ids` that is a list of values (i.e. many per row, at least in some rows).\n",
        "*   Output: new_df which has 1 row per unique value found in any of the original `msg_ids` lists, with that value in a new column named `msg_id`.\n"
      ]
    },
    {
      "cell_type": "code",
      "execution_count": null,
      "metadata": {
        "id": "AvPNQJFn090X"
      },
      "outputs": [],
      "source": [
        "import pandas as pd\n",
        "df = pd.DataFrame({\n",
        "  'date': ['9/1/22', '9/2/22', '9/3/22'],\n",
        "  'action': ['Add', 'Update', 'Delete'],\n",
        "  'msg_ids': [[1, 2, 3], [], [2, 3]],\n",
        "})\n",
        "df.set_index('date', inplace=True)\n",
        "\n",
        "\n",
        "temp_series = df['msg_ids'].apply(pd.Series, 1).stack()\n",
        "temp_series.index = temp_series.index.droplevel(-1)\n",
        "temp_series.name = 'msg_id'\n",
        "new_df = temp_series.to_frame()\n",
        "new_df.set_index('msg_id', inplace=True)\n",
        "new_df.loc[~new_df.index.duplicated(), :] # Drop duplicates."
      ]
    },
    {
      "cell_type": "markdown",
      "metadata": {
        "id": "I14ORpEPP4Wr"
      },
      "source": [
        "## Pandas: DataFrames: Group Timeseries by Frequency"
      ]
    },
    {
      "cell_type": "markdown",
      "metadata": {
        "id": "yycF10l6Qe8Y"
      },
      "source": [
        "You can group timestamped data into intervals of arbitrary duration using a Grouper object to specify groupby instructions.  The `freq` parameter is a string that may contain an integer followed by an [offset alias](https://pandas.pydata.org/pandas-docs/stable/user_guide/timeseries.html#offset-aliases).  E.g. To see output for 2 minute long intervals:"
      ]
    },
    {
      "cell_type": "code",
      "execution_count": null,
      "metadata": {
        "id": "9Eh3efwfQeFr"
      },
      "outputs": [],
      "source": [
        "import pandas as pd\n",
        "df = pd.DataFrame({\n",
        "  'time': ['2022-09-01 00:00:01-07:00', '2022-09-01 00:00:02-07:00',\n",
        "           '2022-09-01 00:01:00-07:00', '2022-09-01 00:02:00-07:00',\n",
        "           '2022-09-01 00:03:00-07:00', '2022-09-01 00:04:00-07:00',\n",
        "           '2022-09-01 00:05:00-07:00', '2022-09-01 00:07:00-07:00'],\n",
        "  'requests': [1, 1, 1, 1, 1, 1, 1, 1],\n",
        "})\n",
        "df['time'] = pd.to_datetime(df.time)\n",
        "\n",
        "df.groupby(pd.Grouper(key='time', freq='2min')).sum()"
      ]
    },
    {
      "cell_type": "markdown",
      "source": [
        "# vb - work"
      ],
      "metadata": {
        "id": "GLCMGajJQs8j"
      }
    },
    {
      "cell_type": "code",
      "source": [],
      "metadata": {
        "id": "dCDPGzXOQxAV"
      },
      "execution_count": null,
      "outputs": []
    },
    {
      "cell_type": "markdown",
      "source": [
        "## Resources"
      ],
      "metadata": {
        "id": "-4KFrWTyQ5dm"
      }
    },
    {
      "cell_type": "code",
      "source": [],
      "metadata": {
        "id": "LieBRO13Q6z6"
      },
      "execution_count": null,
      "outputs": []
    },
    {
      "cell_type": "markdown",
      "source": [
        "Courses\n",
        "\n",
        "- [Welcome to Nick DeRobertis’ Financial Modeling Course!](https://nickderobertis.github.io/fin-model-course/)\n",
        "- [FinanceAndPython](https://financeandpython.com/courses/)\n",
        "- [Boston Dataset](https://data.boston.gov/dataset/property-assessment)\n",
        "- [Datacamp: Python For Finance Tutorial: Algorithmic Trading](https://www.datacamp.com/tutorial/finance-python-trading)\n",
        "  - [github/datacamp/Python For Finance Beginners Tutorial.ipynb](https://github.com/datacamp/datacamp-community-tutorials/blob/master/Python%20Finance%20Tutorial%20For%20Beginners/Python%20For%20Finance%20Beginners%20Tutorial.ipynb)\n",
        "  - [AN INTRODUCTION TO BACKTESTING WITH PYTHON AND PANDAS, Michael Halls-Moore - QuantStart.com](https://s3.amazonaws.com/quantstart/media/powerpoint/an-introduction-to-backtesting.pdf)\n",
        "  - [Quantstart: Backtesting a Moving Average Crossover in Python with pandas](https://www.quantstart.com/articles/Backtesting-a-Moving-Average-Crossover-in-Python-with-pandas/)\n",
        "  - [tpq/finpy_excerpt.py](https://home.tpq.io/wp-content/uploads/2021/04/finpy_excerpt.pdf)\n",
        "- [github/yhilpisch/dx](https://github.com/yhilpisch/dx/blob/master/05_dx_portfolio_multi_risk.ipynb)"
      ],
      "metadata": {
        "id": "-4jrzoRqQ765"
      }
    },
    {
      "cell_type": "code",
      "source": [],
      "metadata": {
        "id": "4AQBd-L3S_eL"
      },
      "execution_count": null,
      "outputs": []
    },
    {
      "cell_type": "markdown",
      "source": [
        "## Python For Finance Tutorial: Algorithmic Trading\n",
        "- [Datacamp](https://www.datacamp.com/tutorial/finance-python-trading)\n",
        "- [Download Notebook - github](https://github.com/datacamp/datacamp-community-tutorials)\n",
        "- [datacamp: Jupyter Notebook tutorial](https://www.datacamp.com/tutorial/tutorial-jupyter-notebook)\n",
        "- [github: jupyter notebook resources](https://github.com/markusschanta/awesome-jupyter#hosted-notebook-solutions)\n",
        "- [github/pytudes: list of notebooks](https://github.com/norvig/pytudes/tree/main)\n"
      ],
      "metadata": {
        "id": "IYjhLeW2TAJF"
      }
    },
    {
      "cell_type": "markdown",
      "source": [
        "Importing financial data into Python\n",
        "- [pandas-datareader docs](https://pandas-datareader.readthedocs.io/en/latest/remote_data.html)\n",
        "- [pandas-datareader: video by Matt Macarthy](https://pandas-datareader.readthedocs.io/en/latest/remote_data.html)\n",
        "- [Python Quants plotform](https://home.tpq.io/pqp/)"
      ],
      "metadata": {
        "id": "nt7JPREDWmgS"
      }
    },
    {
      "cell_type": "code",
      "source": [
        "# !pip install --upgrade pandas-datareader\n"
      ],
      "metadata": {
        "id": "YmIQtVCFZdLT"
      },
      "execution_count": null,
      "outputs": []
    },
    {
      "cell_type": "code",
      "source": [
        "import yfinance as yf\n",
        "import pandas as pd\n",
        "import datetime as dt\n",
        "import numpy as np\n",
        "import matplotlib.pyplot as plt\n",
        "\n",
        "aaplt = yf.Ticker('AAPL')\n",
        "\n",
        "aapl = aaplt.history(\n",
        "                  start=dt.datetime(2006, 10, 1),\n",
        "                  end=dt.datetime(2012, 1, 1)\n",
        "                  )\n",
        "\n",
        "aapl.head()"
      ],
      "metadata": {
        "id": "Q6XWs4AtTIhx"
      },
      "execution_count": null,
      "outputs": []
    },
    {
      "cell_type": "code",
      "source": [
        "# aapl.asfreq(\"M\", method=\"bfill\")\n",
        "aapl.resample('M').Close.plot()"
      ],
      "metadata": {
        "id": "wGV4AhdBXh56"
      },
      "execution_count": null,
      "outputs": []
    },
    {
      "cell_type": "code",
      "source": [
        "# daily percent change\n",
        "daily_pct_change = aapl.Close.pct_change().fillna(0)\n",
        "daily_pct_change.plot()\n",
        "plt.show()\n",
        "\n",
        "plt.hist(daily_pct_change, bins=30)\n",
        "plt.show()"
      ],
      "metadata": {
        "id": "-GEVKS6EZ2dM"
      },
      "execution_count": null,
      "outputs": []
    },
    {
      "cell_type": "code",
      "source": [
        "daily_close = aapl.Close\n",
        "daily_log_returns_shift = np.log(daily_close / daily_close.shift(1))"
      ],
      "metadata": {
        "id": "QErQ3KGTehLk"
      },
      "execution_count": null,
      "outputs": []
    },
    {
      "cell_type": "code",
      "source": [
        "cum_daily_return = (1 + daily_pct_change).cumprod()\n",
        "\n",
        "plt.plot(cum_daily_return)\n",
        "plt.show()"
      ],
      "metadata": {
        "id": "avxHwdiie5XC"
      },
      "execution_count": null,
      "outputs": []
    },
    {
      "cell_type": "code",
      "source": [
        "def get(tickers, startdate, enddate):\n",
        "  def data(ticker):\n",
        "    return (yf.download(ticker, start=startdate, end=enddate, interval='1d'))\n",
        "  datas = map (data, tickers)\n",
        "  return(pd.concat(datas, keys=tickers, names=['Ticker', 'Date']))\n",
        "\n",
        "tickers = ['AAPL', 'MSFT', 'IBM', 'GOOG']\n",
        "all_data = get(tickers, dt.datetime(2006, 10, 1), dt.datetime(2012, 1, 1))"
      ],
      "metadata": {
        "id": "_NXxBQP5hLyA"
      },
      "execution_count": null,
      "outputs": []
    },
    {
      "cell_type": "code",
      "source": [
        "all_data.head()"
      ],
      "metadata": {
        "id": "s89eEaDshnAC"
      },
      "execution_count": null,
      "outputs": []
    },
    {
      "cell_type": "code",
      "source": [
        "# rolling_mean(), rolling_std(),\n",
        "# rolling() with mean() or std(),\n",
        "# volatility- pd.rolling_std(data, window=x) * math.sqrt(window)\n"
      ],
      "metadata": {
        "id": "bAeat-NViB_k"
      },
      "execution_count": null,
      "outputs": []
    },
    {
      "cell_type": "markdown",
      "source": [
        "## Udemy- Financial Modeling with Python\n",
        "- [Investment Analysis & Portfolio Management with Python](https://www.udemy.com/course/investment-analysis-portfolio-management-with-python/learn/lecture/15478650#overview)"
      ],
      "metadata": {
        "id": "OfZzfdQguuQl"
      }
    },
    {
      "cell_type": "code",
      "source": [],
      "metadata": {
        "id": "7hq3FNkiu-KN"
      },
      "execution_count": null,
      "outputs": []
    },
    {
      "cell_type": "markdown",
      "source": [
        "Linear model\n",
        "$$ y = 𝛼 + 𝛽x + 𝜀 $$\n",
        "\n"
      ],
      "metadata": {
        "id": "K-8RmW2qvEkA"
      }
    },
    {
      "cell_type": "code",
      "source": [],
      "metadata": {
        "id": "Krdr9kTPvryr"
      },
      "execution_count": null,
      "outputs": []
    },
    {
      "cell_type": "markdown",
      "source": [
        "### CAPM\n",
        "\n",
        "\n",
        "$$ E[r_j] = r_f + 𝛽_j(E[r_m] - r_f)$$\n",
        "\n",
        "$E[r_j]$ = Expected return on a stock \\\n",
        "$E[r_m]$ = Expected return on the market \\\n",
        "$r_f$ = Risk-free rate (Eg. Yield of T-bills or T-bonds) \\\n",
        "$\\beta_j$ = Systematic risk (market risk) of stock j \\\n",
        "$E[r_m] - r_f$ = Excess market return"
      ],
      "metadata": {
        "id": "GpxU-haxwBqS"
      }
    },
    {
      "cell_type": "code",
      "source": [
        "# get beta from Financial Times (FT)\n",
        "# get risk free (rf) rate from bonds yield- 10yr (FT) US Treasyry Bonds\n",
        "# Get market return from index () return in 1yr\n",
        "# E[rGOOG] = 0.0309 + 1.1233(0.1385 - 0.0309) =0.1518 = 15.18%\n",
        "# https://www.ferventlearning.com/capital-asset-pricing-model/\n",
        "# https://www.ferventlearning.com/asset-pricing-models-explained/\n",
        "# https://www.ferventlearning.com/how-to-calculate-stock-returns/"
      ],
      "metadata": {
        "id": "ecSrdkuIxcXr"
      },
      "execution_count": null,
      "outputs": []
    },
    {
      "cell_type": "markdown",
      "source": [
        "### Risk\n",
        "Variance of a stock."
      ],
      "metadata": {
        "id": "AQNfRIXg1de9"
      }
    },
    {
      "cell_type": "code",
      "source": [],
      "metadata": {
        "id": "jBQOhv272VrY"
      },
      "execution_count": null,
      "outputs": []
    },
    {
      "cell_type": "markdown",
      "source": [
        "### Portfolio Return and Risk"
      ],
      "metadata": {
        "id": "UEPgZS_E49S_"
      }
    },
    {
      "cell_type": "code",
      "source": [
        "import datetime\n",
        "\n",
        "import numpy as np\n",
        "import pandas as pd\n",
        "\n",
        "from dataclasses import dataclass\n",
        "from typing import Optional\n",
        "import yfinance as yf\n",
        "@dataclass\n",
        "class Ticker:\n",
        "  symbol: str\n",
        "  period: str = '1y'\n",
        "  interval: str = '1d'\n",
        "  start: Optional[datetime.datetime] = None\n",
        "  end: Optional[datetime.datetime] = None\n",
        "\n",
        "  def __post_init__(self):\n",
        "    self.data = self.get_history(period = self.period,\n",
        "                                 interval = self.interval,\n",
        "                               )\n",
        "  @property\n",
        "  def beta(self):\n",
        "    return 1.0\n",
        "\n",
        "  @property\n",
        "  def ticker(self):\n",
        "    return yf.Ticker(self.symbol)\n",
        "\n",
        "  def get_history(self, *args, **kwargs):\n",
        "    self.data = self.ticker.history(*args, **kwargs)\n",
        "    return self.data\n",
        "\n",
        "  @property\n",
        "  def closep(self):\n",
        "    return self.data.Close\n",
        "\n",
        "  @property\n",
        "  def daily_return(self):\n",
        "    return self.closep.pct_change(1)\n",
        "\n",
        "  @property\n",
        "  def expect_daily_return(self):\n",
        "    return self.daily_return.mean()\n",
        "\n",
        "  @property\n",
        "  def daily_volatility(self):\n",
        "    return self.expect_daily_return - self.daily_return\n",
        "\n",
        "  @property\n",
        "  def daily_log_return(self):\n",
        "    return np.log(self.daily_return + 1)\n",
        "\n",
        "  @property\n",
        "  def annual_return(self):\n",
        "    return self.daily_return * (252**0.5)\n",
        "\n",
        "  @property\n",
        "  def cumulative_return(self):\n",
        "    return (1 + self.daily_return).cumprod()\n",
        "\n",
        "  def get_data(self, return_all: bool = True):\n",
        "    df = self.data.copy()\n",
        "    if return_all:\n",
        "      df['daily_return'] = self.daily_return\n",
        "      df['annual_return'] = self.annual_return\n",
        "      df['daily_log_return'] = self.daily_log_return\n",
        "      df['cumulative_return'] = self.cumulative_return\n",
        "      df['daily_volatility'] = self.daily_volatility\n",
        "      df = df.fillna(method='bfill',)\n",
        "    return df\n",
        "\n",
        "\n",
        "if __name__ == \"__main__\":\n",
        "  aapl = Ticker('AAPL', period='5y')\n",
        "\n",
        "aapl.data.head()"
      ],
      "metadata": {
        "id": "6JowaHpt5Bqg"
      },
      "execution_count": null,
      "outputs": []
    },
    {
      "cell_type": "code",
      "source": [
        "df = aapl.get_data(return_all=True)\n",
        "df.head()"
      ],
      "metadata": {
        "id": "nYxZJpGN_q4N"
      },
      "execution_count": null,
      "outputs": []
    },
    {
      "cell_type": "code",
      "source": [
        "# Portfolio\n",
        "from typing import Iterable\n",
        "\n",
        "@dataclass\n",
        "class PortfolioPerformance:\n",
        "  portfolio_symbols: Iterable[str]\n",
        "\n",
        "  def __post_init__(self):\n",
        "    self.portfolio_daily_var = np.dot(self.weights.T, np.dot(self.vcv_matrix, self.weights))\n",
        "    self.portfolio_daily_std = self.portfolio_daily_var ** 0.5\n",
        "    self.portfolio_annual_std = self.portfolio_daily_std * (252 ** 0.5)\n",
        "\n",
        "  @property\n",
        "  def portfolio_size(self):\n",
        "    return len(self.portfolio_symbols)\n",
        "\n",
        "  @property\n",
        "  def weights(self):\n",
        "    return np.array([1 / self.portfolio_size] * self.portfolio_size)\n",
        "\n",
        "  @property\n",
        "  def portfolio(self):\n",
        "    _df = pd.concat([Ticker(symbol).closep for symbol in portfolio_symbols], axis=1)\n",
        "    _df.columns = self.portfolio_symbols\n",
        "    return _df\n",
        "\n",
        "  @property\n",
        "  def returns_df(self):\n",
        "    # variance and covariance matrix\n",
        "    return self.portfolio.pct_change(1)\n",
        "\n",
        "  @property\n",
        "  def vcv_matrix(self):\n",
        "    return self.returns_df.cov()\n",
        "\n",
        "\n",
        "if __name__ == \"__main__\":\n",
        "\n",
        "  portfolio_symbols = ['AAPL', 'GOOG', 'MSFT', 'TSLA']\n",
        "\n",
        "  port_perf = PortfolioPerformance(\n",
        "      portfolio_symbols = portfolio_symbols\n",
        "  )\n",
        "  print(f\"Portfolio daily variance: {port_perf.portfolio_daily_var:4E}\")\n",
        "  print(f\"Portfolio daily std: {port_perf.portfolio_daily_std:4E}\")\n",
        "  print(f\"Portfolio annual std: {port_perf.portfolio_annual_std:4E}\")\n"
      ],
      "metadata": {
        "id": "fFGVQjR-_5Qv"
      },
      "execution_count": null,
      "outputs": []
    },
    {
      "cell_type": "code",
      "source": [
        "# Compare the portfolio risk with individual risks\n",
        "stocks_annual_risk = port_perf.returns_df.std() * (252 ** 0.5)\n",
        "stocks_annual_risk"
      ],
      "metadata": {
        "id": "bu9U1ZTbDdvR"
      },
      "execution_count": null,
      "outputs": []
    },
    {
      "cell_type": "code",
      "source": [],
      "metadata": {
        "id": "Wobpvw8_GCNu"
      },
      "execution_count": null,
      "outputs": []
    }
  ],
  "metadata": {
    "colab": {
      "private_outputs": true,
      "provenance": [],
      "include_colab_link": true
    },
    "kernelspec": {
      "display_name": "Python 3",
      "name": "python3"
    },
    "language_info": {
      "name": "python"
    }
  },
  "nbformat": 4,
  "nbformat_minor": 0
}